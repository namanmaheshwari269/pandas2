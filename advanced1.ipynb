{
 "cells": [
  {
   "cell_type": "markdown",
   "id": "4bf56cc1-ff10-47eb-a88f-8d5215f1cf1c",
   "metadata": {},
   "source": [
    "Vectorization"
   ]
  },
  {
   "cell_type": "code",
   "execution_count": 1,
   "id": "0c3c7818-3950-413c-8075-f9a088b69633",
   "metadata": {},
   "outputs": [],
   "source": [
    "import pandas as pd"
   ]
  },
  {
   "cell_type": "markdown",
   "id": "0dc17003-faa9-40a7-acb9-164e5c3787af",
   "metadata": {},
   "source": [
    "without vectorization"
   ]
  },
  {
   "cell_type": "code",
   "execution_count": 2,
   "id": "4df8e7c0-edc4-41e9-9b24-01dca4948941",
   "metadata": {},
   "outputs": [],
   "source": [
    "df = pd.DataFrame({'numbers':[1,2,3,4,5]})\n",
    "df['plus_10'] = df['numbers'].apply(lambda x:x+10)"
   ]
  },
  {
   "cell_type": "code",
   "execution_count": 3,
   "id": "b65d15f9-e9d9-409d-9e52-d376f06bcef2",
   "metadata": {},
   "outputs": [
    {
     "name": "stdout",
     "output_type": "stream",
     "text": [
      "   numbers  plus_10\n",
      "0        1       11\n",
      "1        2       12\n",
      "2        3       13\n",
      "3        4       14\n",
      "4        5       15\n"
     ]
    }
   ],
   "source": [
    "print(df)"
   ]
  },
  {
   "cell_type": "markdown",
   "id": "4d054f5a-7707-4655-ab96-7a6afb408254",
   "metadata": {},
   "source": [
    "with vectorization"
   ]
  },
  {
   "cell_type": "code",
   "execution_count": 6,
   "id": "710b5fb8-afdd-42d2-9cc4-b04ab4e1de9d",
   "metadata": {},
   "outputs": [],
   "source": [
    "df['plus_10'] = df['numbers'] + 50"
   ]
  },
  {
   "cell_type": "code",
   "execution_count": 7,
   "id": "78ee8fdb-e3ea-4412-a332-29dd5f42b11d",
   "metadata": {},
   "outputs": [
    {
     "name": "stdout",
     "output_type": "stream",
     "text": [
      "   numbers  plus_10\n",
      "0        1       51\n",
      "1        2       52\n",
      "2        3       53\n",
      "3        4       54\n",
      "4        5       55\n"
     ]
    }
   ],
   "source": [
    "print(df)"
   ]
  },
  {
   "cell_type": "code",
   "execution_count": 9,
   "id": "2b90cafc-cf44-4abe-9e40-8eef9d4a22e4",
   "metadata": {},
   "outputs": [],
   "source": [
    "df['times_2'] = df['numbers']*2"
   ]
  },
  {
   "cell_type": "code",
   "execution_count": 10,
   "id": "9c2b94ae-fe32-4263-9264-5296418cc18f",
   "metadata": {},
   "outputs": [
    {
     "data": {
      "text/html": [
       "<div>\n",
       "<style scoped>\n",
       "    .dataframe tbody tr th:only-of-type {\n",
       "        vertical-align: middle;\n",
       "    }\n",
       "\n",
       "    .dataframe tbody tr th {\n",
       "        vertical-align: top;\n",
       "    }\n",
       "\n",
       "    .dataframe thead th {\n",
       "        text-align: right;\n",
       "    }\n",
       "</style>\n",
       "<table border=\"1\" class=\"dataframe\">\n",
       "  <thead>\n",
       "    <tr style=\"text-align: right;\">\n",
       "      <th></th>\n",
       "      <th>numbers</th>\n",
       "      <th>plus_10</th>\n",
       "      <th>times_2</th>\n",
       "    </tr>\n",
       "  </thead>\n",
       "  <tbody>\n",
       "    <tr>\n",
       "      <th>0</th>\n",
       "      <td>1</td>\n",
       "      <td>51</td>\n",
       "      <td>2</td>\n",
       "    </tr>\n",
       "    <tr>\n",
       "      <th>1</th>\n",
       "      <td>2</td>\n",
       "      <td>52</td>\n",
       "      <td>4</td>\n",
       "    </tr>\n",
       "    <tr>\n",
       "      <th>2</th>\n",
       "      <td>3</td>\n",
       "      <td>53</td>\n",
       "      <td>6</td>\n",
       "    </tr>\n",
       "    <tr>\n",
       "      <th>3</th>\n",
       "      <td>4</td>\n",
       "      <td>54</td>\n",
       "      <td>8</td>\n",
       "    </tr>\n",
       "    <tr>\n",
       "      <th>4</th>\n",
       "      <td>5</td>\n",
       "      <td>55</td>\n",
       "      <td>10</td>\n",
       "    </tr>\n",
       "  </tbody>\n",
       "</table>\n",
       "</div>"
      ],
      "text/plain": [
       "   numbers  plus_10  times_2\n",
       "0        1       51        2\n",
       "1        2       52        4\n",
       "2        3       53        6\n",
       "3        4       54        8\n",
       "4        5       55       10"
      ]
     },
     "execution_count": 10,
     "metadata": {},
     "output_type": "execute_result"
    }
   ],
   "source": [
    "df"
   ]
  },
  {
   "cell_type": "code",
   "execution_count": 11,
   "id": "18e82f4f-3ff4-434e-ab30-445b0a741d0a",
   "metadata": {},
   "outputs": [],
   "source": [
    "df = pd.DataFrame({\n",
    "    'name':['alice','bob','charlie']})\n",
    "\n",
    "df['upper'] = df['name'].str.upper()"
   ]
  },
  {
   "cell_type": "code",
   "execution_count": 12,
   "id": "04f830b3-843a-47ed-9ea6-88a476d2f6fc",
   "metadata": {},
   "outputs": [
    {
     "data": {
      "text/html": [
       "<div>\n",
       "<style scoped>\n",
       "    .dataframe tbody tr th:only-of-type {\n",
       "        vertical-align: middle;\n",
       "    }\n",
       "\n",
       "    .dataframe tbody tr th {\n",
       "        vertical-align: top;\n",
       "    }\n",
       "\n",
       "    .dataframe thead th {\n",
       "        text-align: right;\n",
       "    }\n",
       "</style>\n",
       "<table border=\"1\" class=\"dataframe\">\n",
       "  <thead>\n",
       "    <tr style=\"text-align: right;\">\n",
       "      <th></th>\n",
       "      <th>name</th>\n",
       "      <th>upper</th>\n",
       "    </tr>\n",
       "  </thead>\n",
       "  <tbody>\n",
       "    <tr>\n",
       "      <th>0</th>\n",
       "      <td>alice</td>\n",
       "      <td>ALICE</td>\n",
       "    </tr>\n",
       "    <tr>\n",
       "      <th>1</th>\n",
       "      <td>bob</td>\n",
       "      <td>BOB</td>\n",
       "    </tr>\n",
       "    <tr>\n",
       "      <th>2</th>\n",
       "      <td>charlie</td>\n",
       "      <td>CHARLIE</td>\n",
       "    </tr>\n",
       "  </tbody>\n",
       "</table>\n",
       "</div>"
      ],
      "text/plain": [
       "      name    upper\n",
       "0    alice    ALICE\n",
       "1      bob      BOB\n",
       "2  charlie  CHARLIE"
      ]
     },
     "execution_count": 12,
     "metadata": {},
     "output_type": "execute_result"
    }
   ],
   "source": [
    "df"
   ]
  },
  {
   "cell_type": "code",
   "execution_count": 13,
   "id": "031e7da7-dff8-4441-8b56-e1f7392997a7",
   "metadata": {},
   "outputs": [],
   "source": [
    "df['date'] = pd.to_datetime(['2025-01-01','2025-02-01','2025-03-01'])\n",
    "df['month'] = df['date'].dt.month"
   ]
  },
  {
   "cell_type": "code",
   "execution_count": 14,
   "id": "df62b93d-7a7d-4f48-a818-97184f9891dd",
   "metadata": {},
   "outputs": [
    {
     "data": {
      "text/html": [
       "<div>\n",
       "<style scoped>\n",
       "    .dataframe tbody tr th:only-of-type {\n",
       "        vertical-align: middle;\n",
       "    }\n",
       "\n",
       "    .dataframe tbody tr th {\n",
       "        vertical-align: top;\n",
       "    }\n",
       "\n",
       "    .dataframe thead th {\n",
       "        text-align: right;\n",
       "    }\n",
       "</style>\n",
       "<table border=\"1\" class=\"dataframe\">\n",
       "  <thead>\n",
       "    <tr style=\"text-align: right;\">\n",
       "      <th></th>\n",
       "      <th>name</th>\n",
       "      <th>upper</th>\n",
       "      <th>date</th>\n",
       "      <th>month</th>\n",
       "    </tr>\n",
       "  </thead>\n",
       "  <tbody>\n",
       "    <tr>\n",
       "      <th>0</th>\n",
       "      <td>alice</td>\n",
       "      <td>ALICE</td>\n",
       "      <td>2025-01-01</td>\n",
       "      <td>1</td>\n",
       "    </tr>\n",
       "    <tr>\n",
       "      <th>1</th>\n",
       "      <td>bob</td>\n",
       "      <td>BOB</td>\n",
       "      <td>2025-02-01</td>\n",
       "      <td>2</td>\n",
       "    </tr>\n",
       "    <tr>\n",
       "      <th>2</th>\n",
       "      <td>charlie</td>\n",
       "      <td>CHARLIE</td>\n",
       "      <td>2025-03-01</td>\n",
       "      <td>3</td>\n",
       "    </tr>\n",
       "  </tbody>\n",
       "</table>\n",
       "</div>"
      ],
      "text/plain": [
       "      name    upper       date  month\n",
       "0    alice    ALICE 2025-01-01      1\n",
       "1      bob      BOB 2025-02-01      2\n",
       "2  charlie  CHARLIE 2025-03-01      3"
      ]
     },
     "execution_count": 14,
     "metadata": {},
     "output_type": "execute_result"
    }
   ],
   "source": [
    "df"
   ]
  },
  {
   "cell_type": "markdown",
   "id": "b82089f9-a90b-4f0d-a986-cfc4ca309dd4",
   "metadata": {},
   "source": [
    "Categorical Data"
   ]
  },
  {
   "cell_type": "code",
   "execution_count": 21,
   "id": "cc8eb0bc-1b6b-453a-a306-be7bff1f7ff2",
   "metadata": {},
   "outputs": [
    {
     "name": "stdout",
     "output_type": "stream",
     "text": [
      "Data type: object\n",
      "memory usage 348\n"
     ]
    }
   ],
   "source": [
    "df = pd.DataFrame({\n",
    "    'Gender':['male','female','female','male']\n",
    "})\n",
    "\n",
    "df['Gender']\n",
    "print(\"Data type:\",df['Gender'].dtype)\n",
    "print(\"memory usage\",df['Gender'].memory_usage(deep=True))"
   ]
  },
  {
   "cell_type": "code",
   "execution_count": 27,
   "id": "2c0bae69-e62e-499e-8d54-77f2ad8052e6",
   "metadata": {},
   "outputs": [
    {
     "name": "stdout",
     "output_type": "stream",
     "text": [
      "0      male\n",
      "1    female\n",
      "2    female\n",
      "3      male\n",
      "Name: Gender, dtype: category\n",
      "Categories (2, object): ['female', 'male']\n",
      "data type category\n",
      "memory used(category) 352\n"
     ]
    }
   ],
   "source": [
    "df['Gender'] = df['Gender'].astype('category')\n",
    "print(df['Gender'])\n",
    "print(\"data type\",df['Gender'].dtype)\n",
    "\n",
    "print(\"memory used(category)\",df['Gender'].memory_usage(deep=True))"
   ]
  },
  {
   "cell_type": "code",
   "execution_count": 29,
   "id": "a3912ae2-777c-44ca-93d2-9fd056fb9230",
   "metadata": {},
   "outputs": [
    {
     "name": "stdout",
     "output_type": "stream",
     "text": [
      "       value\n",
      "color       \n",
      "blue      40\n",
      "green     50\n",
      "red       45\n"
     ]
    },
    {
     "name": "stderr",
     "output_type": "stream",
     "text": [
      "C:\\Users\\naman.maheshwari\\AppData\\Local\\Temp\\ipykernel_7624\\357092849.py:12: FutureWarning: The default of observed=False is deprecated and will be changed to True in a future version of pandas. Pass observed=False to retain current behavior or observed=True to adopt the future default and silence this warning.\n",
      "  print(df.groupby('color').sum())\n"
     ]
    }
   ],
   "source": [
    "import pandas as pd\n",
    "\n",
    "df = pd.DataFrame({\n",
    "    'color': ['red', 'blue', 'green', 'blue', 'green', 'red'],\n",
    "    'value': [10, 15, 20, 25, 30, 35]\n",
    "})\n",
    "\n",
    "df['color'] = df['color'].astype('category')\n",
    "\n",
    "\n",
    "print(df.groupby('color').sum())\n"
   ]
  },
  {
   "cell_type": "code",
   "execution_count": 31,
   "id": "36d04368-d48e-43ed-b94d-8e055e9399f6",
   "metadata": {},
   "outputs": [
    {
     "name": "stdout",
     "output_type": "stream",
     "text": [
      "       value\n",
      "color       \n",
      "blue      40\n",
      "green     50\n",
      "red       45\n"
     ]
    }
   ],
   "source": [
    "import pandas as pd\n",
    "\n",
    "df = pd.DataFrame({\n",
    "    'color': ['red', 'blue', 'green', 'blue', 'green', 'red'],\n",
    "    'value': [10, 15, 20, 25, 30, 35]\n",
    "})\n",
    "df['color'] = df['color'].astype('category')\n",
    "print(df.groupby('color', observed=True).sum())\n"
   ]
  },
  {
   "cell_type": "code",
   "execution_count": null,
   "id": "61ab0311-6de1-4d52-b63d-810e5496144a",
   "metadata": {},
   "outputs": [],
   "source": []
  }
 ],
 "metadata": {
  "kernelspec": {
   "display_name": "Python 3 (ipykernel)",
   "language": "python",
   "name": "python3"
  },
  "language_info": {
   "codemirror_mode": {
    "name": "ipython",
    "version": 3
   },
   "file_extension": ".py",
   "mimetype": "text/x-python",
   "name": "python",
   "nbconvert_exporter": "python",
   "pygments_lexer": "ipython3",
   "version": "3.12.3"
  }
 },
 "nbformat": 4,
 "nbformat_minor": 5
}
